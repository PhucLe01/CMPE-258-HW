{
  "cells": [
    {
      "cell_type": "markdown",
      "metadata": {
        "id": "lsiKGrHT1Yz6"
      },
      "source": [
        "## Setup"
      ]
    },
    {
      "cell_type": "code",
      "execution_count": 1,
      "metadata": {
        "id": "NkobhEVvbxTC"
      },
      "outputs": [],
      "source": [
        "# !pip3 uninstall -y numpy torch torchvision matplotlib timm monai\n",
        "# !pip cache purge\n",
        "# !pip3 install torch torchvision matplotlib numpy timm monai\n",
        "# !pip3 install monai timm"
      ]
    },
    {
      "cell_type": "code",
      "execution_count": 2,
      "metadata": {
        "id": "ZzzI0x3Pn7ub"
      },
      "outputs": [],
      "source": [
        "# !pip3 install torch torchvision matplotlib numpy timm monai\n",
        "# !pip3 uninstall -y numpy"
      ]
    },
    {
      "cell_type": "code",
      "execution_count": 3,
      "metadata": {
        "colab": {
          "base_uri": "https://localhost:8080/"
        },
        "id": "JVKpID_br_NP",
        "outputId": "3f769530-38ce-4825-e52e-3a2a9b6e4185"
      },
      "outputs": [
        {
          "output_type": "stream",
          "name": "stdout",
          "text": [
            "Requirement already satisfied: monai in /usr/local/lib/python3.11/dist-packages (1.4.0)\n",
            "Requirement already satisfied: onnx in /usr/local/lib/python3.11/dist-packages (1.17.0)\n",
            "Requirement already satisfied: openvino in /usr/local/lib/python3.11/dist-packages (2025.0.0)\n",
            "Requirement already satisfied: onnxruntime in /usr/local/lib/python3.11/dist-packages (1.21.0)\n",
            "Requirement already satisfied: numpy<2.0,>=1.24 in /usr/local/lib/python3.11/dist-packages (from monai) (1.26.4)\n",
            "Requirement already satisfied: torch>=1.9 in /usr/local/lib/python3.11/dist-packages (from monai) (2.6.0+cu124)\n",
            "Requirement already satisfied: protobuf>=3.20.2 in /usr/local/lib/python3.11/dist-packages (from onnx) (5.29.4)\n",
            "Requirement already satisfied: openvino-telemetry>=2023.2.1 in /usr/local/lib/python3.11/dist-packages (from openvino) (2025.1.0)\n",
            "Requirement already satisfied: packaging in /usr/local/lib/python3.11/dist-packages (from openvino) (24.2)\n",
            "Requirement already satisfied: coloredlogs in /usr/local/lib/python3.11/dist-packages (from onnxruntime) (15.0.1)\n",
            "Requirement already satisfied: flatbuffers in /usr/local/lib/python3.11/dist-packages (from onnxruntime) (25.2.10)\n",
            "Requirement already satisfied: sympy in /usr/local/lib/python3.11/dist-packages (from onnxruntime) (1.13.1)\n",
            "Requirement already satisfied: filelock in /usr/local/lib/python3.11/dist-packages (from torch>=1.9->monai) (3.18.0)\n",
            "Requirement already satisfied: typing-extensions>=4.10.0 in /usr/local/lib/python3.11/dist-packages (from torch>=1.9->monai) (4.13.0)\n",
            "Requirement already satisfied: networkx in /usr/local/lib/python3.11/dist-packages (from torch>=1.9->monai) (3.4.2)\n",
            "Requirement already satisfied: jinja2 in /usr/local/lib/python3.11/dist-packages (from torch>=1.9->monai) (3.1.6)\n",
            "Requirement already satisfied: fsspec in /usr/local/lib/python3.11/dist-packages (from torch>=1.9->monai) (2025.3.2)\n",
            "Requirement already satisfied: nvidia-cuda-nvrtc-cu12==12.4.127 in /usr/local/lib/python3.11/dist-packages (from torch>=1.9->monai) (12.4.127)\n",
            "Requirement already satisfied: nvidia-cuda-runtime-cu12==12.4.127 in /usr/local/lib/python3.11/dist-packages (from torch>=1.9->monai) (12.4.127)\n",
            "Requirement already satisfied: nvidia-cuda-cupti-cu12==12.4.127 in /usr/local/lib/python3.11/dist-packages (from torch>=1.9->monai) (12.4.127)\n",
            "Requirement already satisfied: nvidia-cudnn-cu12==9.1.0.70 in /usr/local/lib/python3.11/dist-packages (from torch>=1.9->monai) (9.1.0.70)\n",
            "Requirement already satisfied: nvidia-cublas-cu12==12.4.5.8 in /usr/local/lib/python3.11/dist-packages (from torch>=1.9->monai) (12.4.5.8)\n",
            "Requirement already satisfied: nvidia-cufft-cu12==11.2.1.3 in /usr/local/lib/python3.11/dist-packages (from torch>=1.9->monai) (11.2.1.3)\n",
            "Requirement already satisfied: nvidia-curand-cu12==10.3.5.147 in /usr/local/lib/python3.11/dist-packages (from torch>=1.9->monai) (10.3.5.147)\n",
            "Requirement already satisfied: nvidia-cusolver-cu12==11.6.1.9 in /usr/local/lib/python3.11/dist-packages (from torch>=1.9->monai) (11.6.1.9)\n",
            "Requirement already satisfied: nvidia-cusparse-cu12==12.3.1.170 in /usr/local/lib/python3.11/dist-packages (from torch>=1.9->monai) (12.3.1.170)\n",
            "Requirement already satisfied: nvidia-cusparselt-cu12==0.6.2 in /usr/local/lib/python3.11/dist-packages (from torch>=1.9->monai) (0.6.2)\n",
            "Requirement already satisfied: nvidia-nccl-cu12==2.21.5 in /usr/local/lib/python3.11/dist-packages (from torch>=1.9->monai) (2.21.5)\n",
            "Requirement already satisfied: nvidia-nvtx-cu12==12.4.127 in /usr/local/lib/python3.11/dist-packages (from torch>=1.9->monai) (12.4.127)\n",
            "Requirement already satisfied: nvidia-nvjitlink-cu12==12.4.127 in /usr/local/lib/python3.11/dist-packages (from torch>=1.9->monai) (12.4.127)\n",
            "Requirement already satisfied: triton==3.2.0 in /usr/local/lib/python3.11/dist-packages (from torch>=1.9->monai) (3.2.0)\n",
            "Requirement already satisfied: mpmath<1.4,>=1.1.0 in /usr/local/lib/python3.11/dist-packages (from sympy->onnxruntime) (1.3.0)\n",
            "Requirement already satisfied: humanfriendly>=9.1 in /usr/local/lib/python3.11/dist-packages (from coloredlogs->onnxruntime) (10.0)\n",
            "Requirement already satisfied: MarkupSafe>=2.0 in /usr/local/lib/python3.11/dist-packages (from jinja2->torch>=1.9->monai) (3.0.2)\n"
          ]
        }
      ],
      "source": [
        "!pip3 install monai onnx openvino onnxruntime"
      ]
    },
    {
      "cell_type": "markdown",
      "metadata": {
        "id": "ew47njukS1Cs"
      },
      "source": [
        "## Imports"
      ]
    },
    {
      "cell_type": "code",
      "execution_count": 4,
      "metadata": {
        "colab": {
          "base_uri": "https://localhost:8080/"
        },
        "id": "vl1gOvRGabc7",
        "outputId": "4be83c0a-287f-408e-9a70-7ff1f4504ea4"
      },
      "outputs": [
        {
          "output_type": "stream",
          "name": "stderr",
          "text": [
            "<frozen importlib.util>:262: DeprecationWarning: The `openvino.runtime` module is deprecated and will be removed in the 2026.0 release. Please replace `openvino.runtime` with `openvino`.\n"
          ]
        }
      ],
      "source": [
        "import os\n",
        "import torch\n",
        "import timm\n",
        "import timm.optim\n",
        "import timm.scheduler\n",
        "\n",
        "from torch import nn\n",
        "from torch.utils.data import random_split\n",
        "from sklearn.metrics import classification_report\n",
        "from timeit import default_timer as timer\n",
        "from tqdm.auto import tqdm\n",
        "from typing import Dict, List, Tuple\n",
        "import matplotlib.pyplot as plt\n",
        "from PIL import Image\n",
        "import PIL\n",
        "\n",
        "from timm.data import create_dataset, create_loader\n",
        "from timm.data.transforms_factory import create_transform\n",
        "from monai.apps import download_and_extract\n",
        "from openvino.runtime import Core\n",
        "import onnxruntime"
      ]
    },
    {
      "cell_type": "code",
      "execution_count": 5,
      "metadata": {
        "id": "E2sz5Tu5aqiu"
      },
      "outputs": [],
      "source": [
        "# Check setup\n",
        "# !python -V\n",
        "# !nvidia-smi\n",
        "# print(\"Using torch\", torch.__version__)\n",
        "# print(\"Torchvision\", torchvision.__version__)\n",
        "\n",
        "# torch.cuda.device_count()\n",
        "# torch.version.cuda\n",
        "# !nvcc -V\n",
        "# torch.backends.cudnn.version()"
      ]
    },
    {
      "cell_type": "markdown",
      "metadata": {
        "id": "fWh2lk2mSrCl"
      },
      "source": [
        "## Setup dataset"
      ]
    },
    {
      "cell_type": "code",
      "execution_count": 6,
      "metadata": {
        "colab": {
          "base_uri": "https://localhost:8080/"
        },
        "id": "8Rowh5m6ar5M",
        "outputId": "81e2e978-11e2-45a2-93be-76074a384b46"
      },
      "outputs": [
        {
          "output_type": "stream",
          "name": "stdout",
          "text": [
            "./Data\n"
          ]
        }
      ],
      "source": [
        "# create directory\n",
        "directory = \"./Data\"\n",
        "if directory is not None:\n",
        "    os.makedirs(directory, exist_ok=True)\n",
        "root_dir = directory\n",
        "print(root_dir)"
      ]
    },
    {
      "cell_type": "code",
      "execution_count": 7,
      "metadata": {
        "id": "B0eRXaMZatrF"
      },
      "outputs": [],
      "source": [
        "# download dataset\n",
        "resource = \"https://github.com/Project-MONAI/MONAI-extra-test-data/releases/download/0.8.1/MedNIST.tar.gz\"\n",
        "md5 = \"0bc7306e7427e00ad1c5526a6677552d\"\n",
        "\n",
        "compressed_file = os.path.join(root_dir, \"MedNIST.tar.gz\")\n",
        "data_dir = os.path.join(root_dir, \"MedNIST\")\n",
        "if not os.path.exists(data_dir):\n",
        "    download_and_extract(resource, compressed_file, root_dir, md5)"
      ]
    },
    {
      "cell_type": "code",
      "execution_count": 8,
      "metadata": {
        "colab": {
          "base_uri": "https://localhost:8080/"
        },
        "id": "H2-IF8BGavh3",
        "outputId": "a9459482-2688-4aa4-e9b2-3112fda59c35"
      },
      "outputs": [
        {
          "output_type": "stream",
          "name": "stdout",
          "text": [
            "Total image count: 58954\n",
            "Image dimensions: 64 x 64\n",
            "Label names: ['AbdomenCT', 'BreastMRI', 'CXR', 'ChestCT', 'Hand', 'HeadCT']\n",
            "Label counts: [10000, 8954, 10000, 10000, 10000, 10000]\n"
          ]
        }
      ],
      "source": [
        "# dataset info\n",
        "class_names = sorted(x for x in os.listdir(data_dir) if os.path.isdir(os.path.join(data_dir, x)))\n",
        "num_class = len(class_names)\n",
        "image_files = [\n",
        "    [os.path.join(data_dir, class_names[i], x) for x in os.listdir(os.path.join(data_dir, class_names[i]))]\n",
        "    for i in range(num_class)\n",
        "]\n",
        "num_each = [len(image_files[i]) for i in range(num_class)]\n",
        "image_files_list = []\n",
        "image_class = []\n",
        "for i in range(num_class):\n",
        "    image_files_list.extend(image_files[i])\n",
        "    image_class.extend([i] * num_each[i])\n",
        "num_total = len(image_class)\n",
        "image_width, image_height = PIL.Image.open(image_files_list[0]).size\n",
        "\n",
        "print(f\"Total image count: {num_total}\")\n",
        "print(f\"Image dimensions: {image_width} x {image_height}\")\n",
        "print(f\"Label names: {class_names}\")\n",
        "print(f\"Label counts: {num_each}\")"
      ]
    },
    {
      "cell_type": "code",
      "execution_count": 9,
      "metadata": {
        "id": "mlMsikm-ax6g"
      },
      "outputs": [],
      "source": [
        "# split dataset\n",
        "# train_transform = create_transform(224, is_training=True, auto_augment='rand-m9-mstd0.5')\n",
        "train_transform = create_transform(224, is_training=True)\n",
        "test_transform = create_transform(224)\n",
        "\n",
        "dataset = create_dataset('', root_dir, transform=None)\n",
        "\n",
        "train_size = int(0.8 * len(dataset))\n",
        "test_size = len(dataset) - train_size\n",
        "\n",
        "train_data, test_data = random_split(dataset, [train_size, test_size])\n",
        "\n",
        "train_data.dataset.transform = train_transform\n",
        "test_data.dataset.transform = test_transform"
      ]
    },
    {
      "cell_type": "markdown",
      "metadata": {
        "id": "VsOolAkATabZ"
      },
      "source": [
        "## Setup parameters"
      ]
    },
    {
      "cell_type": "code",
      "execution_count": 10,
      "metadata": {
        "id": "wo5oo5aMp-zD"
      },
      "outputs": [],
      "source": [
        "batch_size=16\n",
        "num_epochs=10\n",
        "num_epoch_repeat = num_epochs//2\n",
        "loss_fn = nn.CrossEntropyLoss()\n",
        "\n",
        "train_on_gpu = torch.cuda.is_available()\n",
        "device = (\n",
        "    \"cuda\"\n",
        "    if torch.cuda.is_available()\n",
        "    else \"mps\"\n",
        "    if torch.backends.mps.is_available()\n",
        "    else \"cpu\"\n",
        ")\n",
        "\n",
        "torch.manual_seed(42)\n",
        "torch.cuda.manual_seed(42)"
      ]
    },
    {
      "cell_type": "markdown",
      "metadata": {
        "id": "Aqq22b5-uJwg"
      },
      "source": [
        "## Setup timm model"
      ]
    },
    {
      "cell_type": "code",
      "execution_count": 11,
      "metadata": {
        "colab": {
          "base_uri": "https://localhost:8080/"
        },
        "id": "g3AJc0SxbCYK",
        "outputId": "d93c83a4-3025-4196-f4f5-2e809e4e293b"
      },
      "outputs": [
        {
          "output_type": "stream",
          "name": "stderr",
          "text": [
            "/usr/local/lib/python3.11/dist-packages/huggingface_hub/utils/_auth.py:94: UserWarning: \n",
            "The secret `HF_TOKEN` does not exist in your Colab secrets.\n",
            "To authenticate with the Hugging Face Hub, create a token in your settings tab (https://huggingface.co/settings/tokens), set it as secret in your Google Colab and restart your session.\n",
            "You will be able to reuse this secret in all of your notebooks.\n",
            "Please note that authentication is recommended but still optional to access public models or datasets.\n",
            "  warnings.warn(\n"
          ]
        }
      ],
      "source": [
        "model = timm.create_model('resnet18', pretrained=True, num_classes=6, exportable=True)\n",
        "# model = timm.create_model('resnet18', pretrained=True, num_classes=6, exportable=True, global_pool='avgmax')\n",
        "input_size = model.pretrained_cfg['input_size']\n",
        "try:\n",
        "    # only works if gpu present on machine\n",
        "    train_dataloader = create_loader(train_data, input_size, batch_size, is_training=True)\n",
        "except:\n",
        "    train_dataloader = create_loader(train_data, input_size, batch_size, is_training=True,use_prefetcher=False)\n",
        "\n",
        "try:\n",
        "    # only works if gpu present on machine\n",
        "    test_dataloader = create_loader(test_data, input_size, batch_size)\n",
        "except:\n",
        "    test_dataloader = create_loader(test_data, input_size, batch_size, use_prefetcher=False)\n",
        "\n",
        "image_batch, label_batch = next(iter(train_dataloader))"
      ]
    },
    {
      "cell_type": "code",
      "execution_count": 12,
      "metadata": {
        "id": "fWUAb8Q-T_ls"
      },
      "outputs": [],
      "source": [
        "optimizer = timm.optim.AdamP(model.parameters(), lr=0.0005)\n",
        "# optimizer = timm.optim.AdamW(model.parameters(), lr=0.001, weight_decay=0.01)\n",
        "# optimizer = timm.optim.AdaBelief(model.parameters(), lr=0.001, betas=(0.9, 0.999), weight_decay=1e-4)\n",
        "scheduler = timm.scheduler.CosineLRScheduler(optimizer,\n",
        "                                            t_initial=num_epoch_repeat,\n",
        "                                            lr_min=1e-5,\n",
        "                                            warmup_lr_init=0.0001,\n",
        "                                            warmup_t=3,\n",
        "                                            cycle_limit=num_epoch_repeat+1\n",
        "                                           )"
      ]
    },
    {
      "cell_type": "markdown",
      "metadata": {
        "id": "S5bXLT0B1l2D"
      },
      "source": [
        "## Freeze all layers but the last"
      ]
    },
    {
      "cell_type": "code",
      "execution_count": 13,
      "metadata": {
        "id": "KWZkV5-QbJQB"
      },
      "outputs": [],
      "source": [
        "for param in model.parameters():\n",
        "    param.requires_grad = False\n",
        "\n",
        "\n",
        "for param in model.fc.parameters():\n",
        "    param.requires_grad = True"
      ]
    },
    {
      "cell_type": "markdown",
      "metadata": {
        "id": "xWD8UPjh1s0o"
      },
      "source": [
        "## Setup training functions"
      ]
    },
    {
      "cell_type": "code",
      "execution_count": 14,
      "metadata": {
        "id": "3Zgis3iZbaPA"
      },
      "outputs": [],
      "source": [
        "# def train_step(model: torch.nn.Module,\n",
        "#                dataloader: torch.utils.data.DataLoader,\n",
        "#                loss_fn: torch.nn.Module,\n",
        "#                optimizer: torch.optim.Optimizer,\n",
        "#                device: torch.device,\n",
        "#                epoch: int,\n",
        "#                scheduler: Any) -> Tuple[float, float]:\n",
        "def train_stepnew(model, dataloader, loss_fn, optimizer, device, epoch, scheduler):\n",
        "    \"\"\"Trains a PyTorch model for a single epoch.\n",
        "\n",
        "    Turns a target PyTorch model to training mode and then\n",
        "    runs through all of the required training steps (forward\n",
        "    pass, loss calculation, optimizer step).\n",
        "\n",
        "    Args:\n",
        "    model: A PyTorch model to be trained.\n",
        "    dataloader: A DataLoader instance for the model to be trained on.\n",
        "    loss_fn: A PyTorch loss function to minimize.\n",
        "    optimizer: A PyTorch optimizer to help minimize the loss function.\n",
        "    device: A target device to compute on (e.g. \"cuda\" or \"cpu\").\n",
        "\n",
        "    Returns:\n",
        "    A tuple of training loss and training accuracy metrics.\n",
        "    In the form (train_loss, train_accuracy). For example:\n",
        "\n",
        "    (0.1112, 0.8743)\n",
        "    \"\"\"\n",
        "    # Put model in train mode\n",
        "    model.train()\n",
        "\n",
        "    # Setup train loss and train accuracy values\n",
        "    train_loss, train_acc = 0, 0\n",
        "\n",
        "    num_steps_per_epoch = len(dataloader)\n",
        "    num_updates = epoch * num_steps_per_epoch\n",
        "\n",
        "    lrs = []\n",
        "\n",
        "    # Loop through data loader data batches\n",
        "    for batch, (X, y) in enumerate(dataloader):\n",
        "        # Send data to target device\n",
        "        X, y = X.to(device), y.to(device)\n",
        "\n",
        "        # 1. Forward pass\n",
        "        y_pred = model(X)\n",
        "\n",
        "        # 2. Calculate  and accumulate loss\n",
        "        loss = loss_fn(y_pred, y)\n",
        "        train_loss += loss.item()\n",
        "\n",
        "        # 3. Optimizer zero grad\n",
        "        optimizer.zero_grad()\n",
        "\n",
        "        # 4. Loss backward\n",
        "        loss.backward()\n",
        "\n",
        "        # 5. Optimizer step\n",
        "        optimizer.step()\n",
        "\n",
        "        #new added for timm\n",
        "        if scheduler is not None:\n",
        "          num_updates += 1\n",
        "          scheduler.step_update(num_updates=num_updates)\n",
        "          lrs.append(optimizer.param_groups[0][\"lr\"])\n",
        "\n",
        "        # Calculate and accumulate accuracy metric across all batches\n",
        "        y_pred_class = torch.argmax(torch.softmax(y_pred, dim=1), dim=1)\n",
        "        train_acc += (y_pred_class == y).sum().item()/len(y_pred)\n",
        "\n",
        "    # Adjust metrics to get average loss and accuracy per batch\n",
        "    train_loss = train_loss / len(dataloader)\n",
        "    train_acc = train_acc / len(dataloader)\n",
        "    return train_loss, train_acc, lrs\n",
        "\n",
        "def test_step(model: torch.nn.Module,\n",
        "              dataloader: torch.utils.data.DataLoader,\n",
        "              loss_fn: torch.nn.Module,\n",
        "              device: torch.device) -> Tuple[float, float]:\n",
        "    \"\"\"Tests a PyTorch model for a single epoch.\n",
        "\n",
        "    Turns a target PyTorch model to \"eval\" mode and then performs\n",
        "    a forward pass on a testing dataset.\n",
        "\n",
        "    Args:\n",
        "    model: A PyTorch model to be tested.\n",
        "    dataloader: A DataLoader instance for the model to be tested on.\n",
        "    loss_fn: A PyTorch loss function to calculate loss on the test data.\n",
        "    device: A target device to compute on (e.g. \"cuda\" or \"cpu\").\n",
        "\n",
        "    Returns:\n",
        "    A tuple of testing loss and testing accuracy metrics.\n",
        "    In the form (test_loss, test_accuracy). For example:\n",
        "\n",
        "    (0.0223, 0.8985)\n",
        "    \"\"\"\n",
        "    # Put model in eval mode\n",
        "    model.eval()\n",
        "\n",
        "    # Setup test loss and test accuracy values\n",
        "    test_loss, test_acc = 0, 0\n",
        "\n",
        "    # Turn on inference context manager\n",
        "    with torch.inference_mode():\n",
        "        # Loop through DataLoader batches\n",
        "        for batch, (X, y) in enumerate(dataloader):\n",
        "            # Send data to target device\n",
        "            X, y = X.to(device), y.to(device)\n",
        "\n",
        "            # 1. Forward pass\n",
        "            test_pred_logits = model(X)\n",
        "\n",
        "            # 2. Calculate and accumulate loss\n",
        "            loss = loss_fn(test_pred_logits, y)\n",
        "            test_loss += loss.item()\n",
        "\n",
        "            # Calculate and accumulate accuracy\n",
        "            test_pred_labels = test_pred_logits.argmax(dim=1)\n",
        "            test_acc += ((test_pred_labels == y).sum().item()/len(test_pred_labels))\n",
        "\n",
        "    # Adjust metrics to get average loss and accuracy per batch\n",
        "    test_loss = test_loss / len(dataloader)\n",
        "    test_acc = test_acc / len(dataloader)\n",
        "    return test_loss, test_acc\n",
        "\n",
        "# def train(model: torch.nn.Module,\n",
        "#           train_dataloader: torch.utils.data.DataLoader,\n",
        "#           test_dataloader: torch.utils.data.DataLoader,\n",
        "#           optimizer: torch.optim.Optimizer,\n",
        "#           loss_fn: torch.nn.Module,\n",
        "#           epochs: int,\n",
        "#           device: torch.device) -> Dict[str, List]:\n",
        "def trainnew(model, train_dataloader, test_dataloader, optimizer, loss_fn, epochs, device, scheduler):\n",
        "    \"\"\"Trains and tests a PyTorch model.\n",
        "\n",
        "    Passes a target PyTorch models through train_step() and test_step()\n",
        "    functions for a number of epochs, training and testing the model\n",
        "    in the same epoch loop.\n",
        "\n",
        "    Calculates, prints and stores evaluation metrics throughout.\n",
        "\n",
        "    Args:\n",
        "    model: A PyTorch model to be trained and tested.\n",
        "    train_dataloader: A DataLoader instance for the model to be trained on.\n",
        "    test_dataloader: A DataLoader instance for the model to be tested on.\n",
        "    optimizer: A PyTorch optimizer to help minimize the loss function.\n",
        "    loss_fn: A PyTorch loss function to calculate loss on both datasets.\n",
        "    epochs: An integer indicating how many epochs to train for.\n",
        "    device: A target device to compute on (e.g. \"cuda\" or \"cpu\").\n",
        "\n",
        "    Returns:\n",
        "    A dictionary of training and testing loss as well as training and\n",
        "    testing accuracy metrics. Each metric has a value in a list for\n",
        "    each epoch.\n",
        "    In the form: {train_loss: [...],\n",
        "              train_acc: [...],\n",
        "              test_loss: [...],\n",
        "              test_acc: [...]}\n",
        "    For example if training for epochs=2:\n",
        "             {train_loss: [2.0616, 1.0537],\n",
        "              train_acc: [0.3945, 0.3945],\n",
        "              test_loss: [1.2641, 1.5706],\n",
        "              test_acc: [0.3400, 0.2973]}\n",
        "    \"\"\"\n",
        "    # Create empty results dictionary\n",
        "    results = {\"train_loss\": [],\n",
        "               \"train_acc\": [],\n",
        "               \"test_loss\": [],\n",
        "               \"test_acc\": [],\n",
        "               \"all_lrs\": []}\n",
        "\n",
        "    # Loop through training and testing steps for a number of epochs\n",
        "\n",
        "    # Make sure model on target device\n",
        "    model.to(device)\n",
        "\n",
        "    all_lrs=[]\n",
        "\n",
        "    # Loop through training and testing steps for a number of epochs\n",
        "    for epoch in tqdm(range(epochs)):\n",
        "        # train_loss, train_acc = train_step(model=model,\n",
        "        #                                   dataloader=train_dataloader,\n",
        "        #                                   loss_fn=loss_fn,\n",
        "        #                                   optimizer=optimizer,\n",
        "        #                                   device=device)\n",
        "        train_loss, train_acc, lrs = train_stepnew(model=model,\n",
        "                                          dataloader=train_dataloader,\n",
        "                                          loss_fn=loss_fn,\n",
        "                                          optimizer=optimizer,\n",
        "                                          device=device,\n",
        "                                          epoch=epoch,\n",
        "                                          scheduler=scheduler)\n",
        "\n",
        "        if scheduler is not None:\n",
        "          all_lrs.extend(lrs)\n",
        "          scheduler.step(epoch + 1)\n",
        "\n",
        "        test_loss, test_acc = test_step(model=model,\n",
        "          dataloader=test_dataloader,\n",
        "          loss_fn=loss_fn,\n",
        "          device=device)\n",
        "\n",
        "        # Print out what's happening\n",
        "        print(\n",
        "          f\"Epoch: {epoch+1} | \"\n",
        "          f\"train_loss: {train_loss:.4f} | \"\n",
        "          f\"train_acc: {train_acc:.4f} | \"\n",
        "          f\"test_loss: {test_loss:.4f} | \"\n",
        "          f\"test_acc: {test_acc:.4f}\"\n",
        "        )\n",
        "\n",
        "        # Update results dictionary\n",
        "        results[\"train_loss\"].append(train_loss)\n",
        "        results[\"train_acc\"].append(train_acc)\n",
        "        results[\"test_loss\"].append(test_loss)\n",
        "        results[\"test_acc\"].append(test_acc)\n",
        "        results[\"all_lrs\"].append(all_lrs)\n",
        "\n",
        "    # Return the filled results at the end of the epochs\n",
        "    return results"
      ]
    },
    {
      "cell_type": "markdown",
      "metadata": {
        "id": "IdmWMlCt10Om"
      },
      "source": [
        "## Train model"
      ]
    },
    {
      "cell_type": "code",
      "execution_count": 15,
      "metadata": {
        "colab": {
          "base_uri": "https://localhost:8080/",
          "height": 245,
          "referenced_widgets": [
            "64c14eec2a3744baa102e5dff98f9cca",
            "ce6a8e6c4b3048619c68b000b3784e82",
            "984696ba1bdc4eb8b1d6b9a10e50747c",
            "fa7405ea020f4b9ea03fd44e16d47b1b",
            "179e06c6da0e4bfaaf2668ede12540ef",
            "16797628b61a42bc9fab4aa3caef70c3",
            "a8a735981c6e4174b5d92802f6a740f9",
            "2170842a2abc41cf80be49b39f2c5247",
            "2e6117483d204d4b91402a540749d69c",
            "d8fdea9cdc694b96ad810befc4bac9e2",
            "a7a5103a66a84406a1f0c7cb8c1f5d8c"
          ]
        },
        "id": "uXmGcE6Sbnfu",
        "outputId": "65c8ddb2-f86e-40ac-e0d1-832a33b755f3"
      },
      "outputs": [
        {
          "output_type": "display_data",
          "data": {
            "text/plain": [
              "  0%|          | 0/10 [00:00<?, ?it/s]"
            ],
            "application/vnd.jupyter.widget-view+json": {
              "version_major": 2,
              "version_minor": 0,
              "model_id": "64c14eec2a3744baa102e5dff98f9cca"
            }
          },
          "metadata": {}
        },
        {
          "output_type": "stream",
          "name": "stdout",
          "text": [
            "Epoch: 1 | train_loss: 0.8163 | train_acc: 0.7588 | test_loss: 0.4775 | test_acc: 0.8066\n",
            "Epoch: 2 | train_loss: 0.3903 | train_acc: 0.8210 | test_loss: 0.3132 | test_acc: 0.8216\n",
            "Epoch: 3 | train_loss: 0.3059 | train_acc: 0.8326 | test_loss: 0.2753 | test_acc: 0.8218\n",
            "Epoch: 4 | train_loss: 0.2831 | train_acc: 0.8456 | test_loss: 0.2706 | test_acc: 0.8233\n",
            "Epoch: 5 | train_loss: 0.2776 | train_acc: 0.8542 | test_loss: 0.2707 | test_acc: 0.8229\n",
            "Epoch: 6 | train_loss: 0.2716 | train_acc: 0.8462 | test_loss: 0.2589 | test_acc: 0.8251\n",
            "Epoch: 7 | train_loss: 0.2639 | train_acc: 0.8526 | test_loss: 0.2687 | test_acc: 0.8242\n",
            "Epoch: 8 | train_loss: 0.2606 | train_acc: 0.8569 | test_loss: 0.2565 | test_acc: 0.8243\n",
            "Epoch: 9 | train_loss: 0.2571 | train_acc: 0.8616 | test_loss: 0.2595 | test_acc: 0.8241\n",
            "Epoch: 10 | train_loss: 0.2549 | train_acc: 0.8638 | test_loss: 0.2513 | test_acc: 0.8979\n",
            "[INFO] Total training time: 1575.918 seconds\n"
          ]
        }
      ],
      "source": [
        "# Start the timer\n",
        "start_time = timer()\n",
        "\n",
        "# Setup training and save the results\n",
        "# results = train(model=model,\n",
        "#                        train_dataloader=train_dataloader,\n",
        "#                        test_dataloader=test_dataloader,\n",
        "#                        optimizer=optimizer,\n",
        "#                        loss_fn=loss_fn,\n",
        "#                        epochs=num_epochs,\n",
        "#                        device=device)\n",
        "results = trainnew(model=model,\n",
        "                       train_dataloader=train_dataloader,\n",
        "                       test_dataloader=test_dataloader,\n",
        "                       optimizer=optimizer,\n",
        "                       loss_fn=loss_fn,\n",
        "                       epochs=num_epochs,\n",
        "                       device=device,\n",
        "                       scheduler=scheduler)\n",
        "# End the timer and print out how long it took\n",
        "end_time = timer()\n",
        "print(f\"[INFO] Total training time: {end_time-start_time:.3f} seconds\")"
      ]
    },
    {
      "cell_type": "markdown",
      "metadata": {
        "id": "Bzo8aokovSzE"
      },
      "source": [
        "## Plots and info about model"
      ]
    },
    {
      "cell_type": "code",
      "execution_count": 16,
      "metadata": {
        "colab": {
          "base_uri": "https://localhost:8080/",
          "height": 539
        },
        "id": "hh4MJJUcbpsE",
        "outputId": "13c14d92-cfe7-4c9c-f5ab-1f8850c0e759"
      },
      "outputs": [
        {
          "output_type": "display_data",
          "data": {
            "text/plain": [
              "<Figure size 1500x700 with 2 Axes>"
            ],
            "image/png": "[encoded data removed]"
          },
          "metadata": {}
        }
      ],
      "source": [
        "# Plot loss curves of a model\n",
        "def plot_loss_curves(results):\n",
        "    \"\"\"Plots training curves of a results dictionary.\n",
        "\n",
        "    Args:\n",
        "        results (dict): dictionary containing list of values, e.g.\n",
        "            {\"train_loss\": [...],\n",
        "             \"train_acc\": [...],\n",
        "             \"test_loss\": [...],\n",
        "             \"test_acc\": [...]}\n",
        "    \"\"\"\n",
        "    loss = results[\"train_loss\"]\n",
        "    test_loss = results[\"test_loss\"]\n",
        "\n",
        "    accuracy = results[\"train_acc\"]\n",
        "    test_accuracy = results[\"test_acc\"]\n",
        "\n",
        "    epochs = range(len(results[\"train_loss\"]))\n",
        "\n",
        "    plt.figure(figsize=(15, 7))\n",
        "\n",
        "    # Plot loss\n",
        "    plt.subplot(1, 2, 1)\n",
        "    plt.plot(epochs, loss, label=\"train_loss\")\n",
        "    plt.plot(epochs, test_loss, label=\"test_loss\")\n",
        "    plt.title(\"Loss\")\n",
        "    plt.xlabel(\"Epochs\")\n",
        "    plt.legend()\n",
        "\n",
        "    # Plot accuracy\n",
        "    plt.subplot(1, 2, 2)\n",
        "    plt.plot(epochs, accuracy, label=\"train_accuracy\")\n",
        "    plt.plot(epochs, test_accuracy, label=\"test_accuracy\")\n",
        "    plt.title(\"Accuracy\")\n",
        "    plt.xlabel(\"Epochs\")\n",
        "    plt.legend()\n",
        "\n",
        "plot_loss_curves(results)"
      ]
    },
    {
      "cell_type": "code",
      "execution_count": 17,
      "metadata": {
        "colab": {
          "base_uri": "https://localhost:8080/"
        },
        "id": "nzkTGAH-yBtx",
        "outputId": "89d101dc-8cc4-4461-a498-54d194ab7d5a"
      },
      "outputs": [
        {
          "output_type": "stream",
          "name": "stdout",
          "text": [
            "              precision    recall  f1-score   support\n",
            "\n",
            "   AbdomenCT     0.9561    0.4336    0.5966      2011\n",
            "   BreastMRI     0.9978    1.0000    0.9989      1822\n",
            "         CXR     0.6348    0.9985    0.7762      1990\n",
            "     ChestCT     0.9951    0.9956    0.9953      2025\n",
            "        Hand     0.9963    0.9737    0.9849      1942\n",
            "      HeadCT     1.0000    0.9990    0.9995      2001\n",
            "\n",
            "    accuracy                         0.8979     11791\n",
            "   macro avg     0.9300    0.9001    0.8919     11791\n",
            "weighted avg     0.9291    0.8979    0.8899     11791\n",
            "\n"
          ]
        }
      ],
      "source": [
        "y_true = []\n",
        "y_pred = []\n",
        "with torch.no_grad():\n",
        "    for test_data in test_dataloader:\n",
        "        test_images, test_labels = (\n",
        "            test_data[0].to(device),\n",
        "            test_data[1].to(device),\n",
        "        )\n",
        "        pred = model(test_images).argmax(dim=1)\n",
        "        for i in range(len(pred)):\n",
        "            y_true.append(test_labels[i].item())\n",
        "            y_pred.append(pred[i].item())\n",
        "print(classification_report(y_true, y_pred, target_names=class_names, digits=4))"
      ]
    },
    {
      "cell_type": "markdown",
      "metadata": {
        "id": "OxkGWV7HvgYG"
      },
      "source": [
        "## Model export and inference Optimization"
      ]
    },
    {
      "cell_type": "code",
      "execution_count": 18,
      "metadata": {
        "id": "jSm9ixg_vmEs"
      },
      "outputs": [],
      "source": [
        "model.eval()\n",
        "\n",
        "x = image_batch\n",
        "torch_out = model(x)\n",
        "\n",
        "# Export the model\n",
        "torch.onnx.export(model,                                       # model being run\n",
        "                  x,                                           # model input (or a tuple for multiple inputs)\n",
        "                  \"restnet18-9.onnx\",                            # where to save the model (can be a file or file-like object)\n",
        "                  export_params=True,                          # store the trained parameter weights inside the model file\n",
        "                  opset_version=10,                            # the ONNX version to export the model to\n",
        "                  do_constant_folding=True,                    # whether to execute constant folding for optimization\n",
        "                  input_names = ['input'],                     # the model's input names\n",
        "                  output_names = ['output'],                   # the model's output names\n",
        "                  dynamic_axes={'input' : {0 : 'batch_size'},  # variable length axes\n",
        "                                'output': {0 : 'batch_size'}})\n"
      ]
    },
    {
      "cell_type": "code",
      "execution_count": 19,
      "metadata": {
        "id": "hMAEcAKRKvia"
      },
      "outputs": [],
      "source": [
        "#Inference with Onnx\n",
        "import time\n",
        "onnx_model_path = \"./restnet18-9.onnx\"\n",
        "ort_session = onnxruntime.InferenceSession(onnx_model_path, providers=['CPUExecutionProvider'])\n",
        "\n",
        "input_data = image_batch.cpu().numpy()\n",
        "input_name = ort_session.get_inputs()[0].name\n",
        "inputs = {input_name: input_data}\n",
        "\n",
        "latencyOnnx = []\n",
        "start = time.time()\n",
        "\n",
        "ort_output = ort_session.run(None, inputs)[0]\n",
        "\n",
        "latencyOnnx.append(time.time() - start)"
      ]
    },
    {
      "cell_type": "code",
      "execution_count": 20,
      "metadata": {
        "id": "k1UtgAUO2VwS"
      },
      "outputs": [],
      "source": [
        "#Inference with OpenVINO\n",
        "ie = Core()\n",
        "model_onnx = ie.read_model(model=onnx_model_path)\n",
        "compiled_model_onnx = ie.compile_model(model=model_onnx, device_name=\"CPU\")\n",
        "\n",
        "# inference\n",
        "output_layer = next(iter(compiled_model_onnx.outputs))\n",
        "latencyOpenVINO = []\n",
        "input_data = image_batch.cpu().numpy()\n",
        "inputs = {'input': input_data}\n",
        "start = time.time()\n",
        "request = compiled_model_onnx.create_infer_request()\n",
        "output = request.infer(inputs=inputs)\n",
        "outputs = request.get_output_tensor(output_layer.index).data\n",
        "latencyOpenVINO.append(time.time() - start)\n"
      ]
    },
    {
      "cell_type": "code",
      "execution_count": 21,
      "metadata": {
        "colab": {
          "base_uri": "https://localhost:8080/"
        },
        "id": "k0AopB3zQlBZ",
        "outputId": "c85197bf-82a1-4831-e745-754f3ff6697d"
      },
      "outputs": [
        {
          "output_type": "stream",
          "name": "stdout",
          "text": [
            "ONNX Runtime CPU Inference time = 819.44 ms\n",
            "OpenVINO CPU Inference time = 933.86 ms\n"
          ]
        }
      ],
      "source": [
        "print(\"ONNX Runtime CPU Inference time = {:.2f} ms\".format(sum(latencyOnnx) * 1000 / len(latencyOnnx)))\n",
        "print(\"OpenVINO CPU Inference time = {} ms\".format(format(sum(latencyOpenVINO) * 1000 / len(latencyOpenVINO), '.2f')))"
      ]
    }
  ],
  "metadata": {
    "accelerator": "GPU",
    "colab": {
      "collapsed_sections": [
        "S5bXLT0B1l2D",
        "xWD8UPjh1s0o"
      ],
      "gpuType": "T4",
      "provenance": []
    },
    "kernelspec": {
      "display_name": "Python 3",
      "name": "python3"
    },
    "language_info": {
      "name": "python"
    },
    "widgets": {
      "application/vnd.jupyter.widget-state+json": {
        "64c14eec2a3744baa102e5dff98f9cca": {
          "model_module": "@jupyter-widgets/controls",
          "model_name": "HBoxModel",
          "model_module_version": "1.5.0",
          "state": {
            "_dom_classes": [],
            "_model_module": "@jupyter-widgets/controls",
            "_model_module_version": "1.5.0",
            "_model_name": "HBoxModel",
            "_view_count": null,
            "_view_module": "@jupyter-widgets/controls",
            "_view_module_version": "1.5.0",
            "_view_name": "HBoxView",
            "box_style": "",
            "children": [
              "IPY_MODEL_ce6a8e6c4b3048619c68b000b3784e82",
              "IPY_MODEL_984696ba1bdc4eb8b1d6b9a10e50747c",
              "IPY_MODEL_fa7405ea020f4b9ea03fd44e16d47b1b"
            ],
            "layout": "IPY_MODEL_179e06c6da0e4bfaaf2668ede12540ef"
          }
        },
        "ce6a8e6c4b3048619c68b000b3784e82": {
          "model_module": "@jupyter-widgets/controls",
          "model_name": "HTMLModel",
          "model_module_version": "1.5.0",
          "state": {
            "_dom_classes": [],
            "_model_module": "@jupyter-widgets/controls",
            "_model_module_version": "1.5.0",
            "_model_name": "HTMLModel",
            "_view_count": null,
            "_view_module": "@jupyter-widgets/controls",
            "_view_module_version": "1.5.0",
            "_view_name": "HTMLView",
            "description": "",
            "description_tooltip": null,
            "layout": "IPY_MODEL_16797628b61a42bc9fab4aa3caef70c3",
            "placeholder": "​",
            "style": "IPY_MODEL_a8a735981c6e4174b5d92802f6a740f9",
            "value": "100%"
          }
        },
        "984696ba1bdc4eb8b1d6b9a10e50747c": {
          "model_module": "@jupyter-widgets/controls",
          "model_name": "FloatProgressModel",
          "model_module_version": "1.5.0",
          "state": {
            "_dom_classes": [],
            "_model_module": "@jupyter-widgets/controls",
            "_model_module_version": "1.5.0",
            "_model_name": "FloatProgressModel",
            "_view_count": null,
            "_view_module": "@jupyter-widgets/controls",
            "_view_module_version": "1.5.0",
            "_view_name": "ProgressView",
            "bar_style": "success",
            "description": "",
            "description_tooltip": null,
            "layout": "IPY_MODEL_2170842a2abc41cf80be49b39f2c5247",
            "max": 10,
            "min": 0,
            "orientation": "horizontal",
            "style": "IPY_MODEL_2e6117483d204d4b91402a540749d69c",
            "value": 10
          }
        },
        "fa7405ea020f4b9ea03fd44e16d47b1b": {
          "model_module": "@jupyter-widgets/controls",
          "model_name": "HTMLModel",
          "model_module_version": "1.5.0",
          "state": {
            "_dom_classes": [],
            "_model_module": "@jupyter-widgets/controls",
            "_model_module_version": "1.5.0",
            "_model_name": "HTMLModel",
            "_view_count": null,
            "_view_module": "@jupyter-widgets/controls",
            "_view_module_version": "1.5.0",
            "_view_name": "HTMLView",
            "description": "",
            "description_tooltip": null,
            "layout": "IPY_MODEL_d8fdea9cdc694b96ad810befc4bac9e2",
            "placeholder": "​",
            "style": "IPY_MODEL_a7a5103a66a84406a1f0c7cb8c1f5d8c",
            "value": " 10/10 [26:15&lt;00:00, 151.86s/it]"
          }
        },
        "179e06c6da0e4bfaaf2668ede12540ef": {
          "model_module": "@jupyter-widgets/base",
          "model_name": "LayoutModel",
          "model_module_version": "1.2.0",
          "state": {
            "_model_module": "@jupyter-widgets/base",
            "_model_module_version": "1.2.0",
            "_model_name": "LayoutModel",
            "_view_count": null,
            "_view_module": "@jupyter-widgets/base",
            "_view_module_version": "1.2.0",
            "_view_name": "LayoutView",
            "align_content": null,
            "align_items": null,
            "align_self": null,
            "border": null,
            "bottom": null,
            "display": null,
            "flex": null,
            "flex_flow": null,
            "grid_area": null,
            "grid_auto_columns": null,
            "grid_auto_flow": null,
            "grid_auto_rows": null,
            "grid_column": null,
            "grid_gap": null,
            "grid_row": null,
            "grid_template_areas": null,
            "grid_template_columns": null,
            "grid_template_rows": null,
            "height": null,
            "justify_content": null,
            "justify_items": null,
            "left": null,
            "margin": null,
            "max_height": null,
            "max_width": null,
            "min_height": null,
            "min_width": null,
            "object_fit": null,
            "object_position": null,
            "order": null,
            "overflow": null,
            "overflow_x": null,
            "overflow_y": null,
            "padding": null,
            "right": null,
            "top": null,
            "visibility": null,
            "width": null
          }
        },
        "16797628b61a42bc9fab4aa3caef70c3": {
          "model_module": "@jupyter-widgets/base",
          "model_name": "LayoutModel",
          "model_module_version": "1.2.0",
          "state": {
            "_model_module": "@jupyter-widgets/base",
            "_model_module_version": "1.2.0",
            "_model_name": "LayoutModel",
            "_view_count": null,
            "_view_module": "@jupyter-widgets/base",
            "_view_module_version": "1.2.0",
            "_view_name": "LayoutView",
            "align_content": null,
            "align_items": null,
            "align_self": null,
            "border": null,
            "bottom": null,
            "display": null,
            "flex": null,
            "flex_flow": null,
            "grid_area": null,
            "grid_auto_columns": null,
            "grid_auto_flow": null,
            "grid_auto_rows": null,
            "grid_column": null,
            "grid_gap": null,
            "grid_row": null,
            "grid_template_areas": null,
            "grid_template_columns": null,
            "grid_template_rows": null,
            "height": null,
            "justify_content": null,
            "justify_items": null,
            "left": null,
            "margin": null,
            "max_height": null,
            "max_width": null,
            "min_height": null,
            "min_width": null,
            "object_fit": null,
            "object_position": null,
            "order": null,
            "overflow": null,
            "overflow_x": null,
            "overflow_y": null,
            "padding": null,
            "right": null,
            "top": null,
            "visibility": null,
            "width": null
          }
        },
        "a8a735981c6e4174b5d92802f6a740f9": {
          "model_module": "@jupyter-widgets/controls",
          "model_name": "DescriptionStyleModel",
          "model_module_version": "1.5.0",
          "state": {
            "_model_module": "@jupyter-widgets/controls",
            "_model_module_version": "1.5.0",
            "_model_name": "DescriptionStyleModel",
            "_view_count": null,
            "_view_module": "@jupyter-widgets/base",
            "_view_module_version": "1.2.0",
            "_view_name": "StyleView",
            "description_width": ""
          }
        },
        "2170842a2abc41cf80be49b39f2c5247": {
          "model_module": "@jupyter-widgets/base",
          "model_name": "LayoutModel",
          "model_module_version": "1.2.0",
          "state": {
            "_model_module": "@jupyter-widgets/base",
            "_model_module_version": "1.2.0",
            "_model_name": "LayoutModel",
            "_view_count": null,
            "_view_module": "@jupyter-widgets/base",
            "_view_module_version": "1.2.0",
            "_view_name": "LayoutView",
            "align_content": null,
            "align_items": null,
            "align_self": null,
            "border": null,
            "bottom": null,
            "display": null,
            "flex": null,
            "flex_flow": null,
            "grid_area": null,
            "grid_auto_columns": null,
            "grid_auto_flow": null,
            "grid_auto_rows": null,
            "grid_column": null,
            "grid_gap": null,
            "grid_row": null,
            "grid_template_areas": null,
            "grid_template_columns": null,
            "grid_template_rows": null,
            "height": null,
            "justify_content": null,
            "justify_items": null,
            "left": null,
            "margin": null,
            "max_height": null,
            "max_width": null,
            "min_height": null,
            "min_width": null,
            "object_fit": null,
            "object_position": null,
            "order": null,
            "overflow": null,
            "overflow_x": null,
            "overflow_y": null,
            "padding": null,
            "right": null,
            "top": null,
            "visibility": null,
            "width": null
          }
        },
        "2e6117483d204d4b91402a540749d69c": {
          "model_module": "@jupyter-widgets/controls",
          "model_name": "ProgressStyleModel",
          "model_module_version": "1.5.0",
          "state": {
            "_model_module": "@jupyter-widgets/controls",
            "_model_module_version": "1.5.0",
            "_model_name": "ProgressStyleModel",
            "_view_count": null,
            "_view_module": "@jupyter-widgets/base",
            "_view_module_version": "1.2.0",
            "_view_name": "StyleView",
            "bar_color": null,
            "description_width": ""
          }
        },
        "d8fdea9cdc694b96ad810befc4bac9e2": {
          "model_module": "@jupyter-widgets/base",
          "model_name": "LayoutModel",
          "model_module_version": "1.2.0",
          "state": {
            "_model_module": "@jupyter-widgets/base",
            "_model_module_version": "1.2.0",
            "_model_name": "LayoutModel",
            "_view_count": null,
            "_view_module": "@jupyter-widgets/base",
            "_view_module_version": "1.2.0",
            "_view_name": "LayoutView",
            "align_content": null,
            "align_items": null,
            "align_self": null,
            "border": null,
            "bottom": null,
            "display": null,
            "flex": null,
            "flex_flow": null,
            "grid_area": null,
            "grid_auto_columns": null,
            "grid_auto_flow": null,
            "grid_auto_rows": null,
            "grid_column": null,
            "grid_gap": null,
            "grid_row": null,
            "grid_template_areas": null,
            "grid_template_columns": null,
            "grid_template_rows": null,
            "height": null,
            "justify_content": null,
            "justify_items": null,
            "left": null,
            "margin": null,
            "max_height": null,
            "max_width": null,
            "min_height": null,
            "min_width": null,
            "object_fit": null,
            "object_position": null,
            "order": null,
            "overflow": null,
            "overflow_x": null,
            "overflow_y": null,
            "padding": null,
            "right": null,
            "top": null,
            "visibility": null,
            "width": null
          }
        },
        "a7a5103a66a84406a1f0c7cb8c1f5d8c": {
          "model_module": "@jupyter-widgets/controls",
          "model_name": "DescriptionStyleModel",
          "model_module_version": "1.5.0",
          "state": {
            "_model_module": "@jupyter-widgets/controls",
            "_model_module_version": "1.5.0",
            "_model_name": "DescriptionStyleModel",
            "_view_count": null,
            "_view_module": "@jupyter-widgets/base",
            "_view_module_version": "1.2.0",
            "_view_name": "StyleView",
            "description_width": ""
          }
        }
      }
    }
  },
  "nbformat": 4,
  "nbformat_minor": 0
}